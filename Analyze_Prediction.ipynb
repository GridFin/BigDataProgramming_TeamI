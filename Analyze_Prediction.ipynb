{
  "nbformat": 4,
  "nbformat_minor": 0,
  "metadata": {
    "colab": {
      "provenance": []
    },
    "kernelspec": {
      "name": "python3",
      "display_name": "Python 3"
    },
    "language_info": {
      "name": "python"
    }
  },
  "cells": [
    {
      "cell_type": "code",
      "execution_count": 13,
      "metadata": {
        "colab": {
          "base_uri": "https://localhost:8080/"
        },
        "id": "4WmYG0tSOnt_",
        "outputId": "2f144cd5-2424-46bb-b09c-3ef201703d39"
      },
      "outputs": [
        {
          "output_type": "stream",
          "name": "stdout",
          "text": [
            "Drive already mounted at /content/drive; to attempt to forcibly remount, call drive.mount(\"/content/drive\", force_remount=True).\n",
            "마운트 완료\n"
          ]
        }
      ],
      "source": [
        "import pandas as pd\n",
        "import numpy as np\n",
        "import os\n",
        "import chardet\n",
        "from google.colab import files\n",
        "from sklearn.linear_model import LinearRegression\n",
        "from sklearn.ensemble import RandomForestRegressor\n",
        "from sklearn.preprocessing import LabelEncoder\n",
        "import matplotlib.pyplot as plt\n",
        "import seaborn as sns\n",
        "\n",
        "# 마운트\n",
        "from google.colab import drive\n",
        "drive.mount('/content/drive')\n",
        "print(\"마운트 완료\")"
      ]
    },
    {
      "cell_type": "code",
      "source": [
        "# 인코딩 자동 감지 함수\n",
        "def detect_encoding(file_path, n_lines=1000):\n",
        "    with open(file_path, 'rb') as f:\n",
        "        raw_data = b''.join([f.readline() for _ in range(n_lines)])\n",
        "    return chardet.detect(raw_data)['encoding']\n",
        "\n",
        "# 연도별 데이터 처리 함수\n",
        "def process_year(year, base_path):\n",
        "    print(f\"\\n{year}년 데이터 처리 시작\")\n",
        "    sales_path = os.path.join(base_path, f\"상권_{year}.csv\")\n",
        "    temp_path = os.path.join(base_path, f\"기온_{year}.csv\")\n",
        "    dust_path = os.path.join(base_path, f\"미세먼지_{year}.csv\")\n",
        "\n",
        "    # 1. 상권 데이터\n",
        "    sales_enc = detect_encoding(sales_path)\n",
        "    df_sales = pd.read_csv(sales_path, encoding=sales_enc)\n",
        "    df_sales['연도'] = df_sales['기준_년분기_코드'].astype(str).str[:4].astype(int)\n",
        "    df_sales = df_sales[df_sales['연도'] == year]\n",
        "    grouped = df_sales.groupby(['행정동_코드', '행정동_코드_명', '서비스_업종_코드_명'], as_index=False)['당월_매출_금액'].sum()\n",
        "    grouped.columns = ['행정동코드', '행정동명', '업종', '총매출']\n",
        "    grouped.insert(0, '연도', year)\n",
        "    print(f\"{year}년 상권 데이터: {grouped.shape}\")\n",
        "    print(grouped.head())\n",
        "\n",
        "    # 2. 기온 데이터\n",
        "    temp_enc = detect_encoding(temp_path)\n",
        "    df_temp = pd.read_csv(temp_path, encoding=temp_enc)\n",
        "    avg_temp = df_temp['평균기온(°C)'].dropna().mean()\n",
        "    grouped['평균기온'] = round(avg_temp, 2)\n",
        "    print(f\"{year}년 평균 기온: {avg_temp:.2f}°C\")\n",
        "\n",
        "    # 3. 미세먼지 데이터\n",
        "    dust_enc = detect_encoding(dust_path)\n",
        "    df_dust = pd.read_csv(dust_path, encoding=dust_enc)\n",
        "    pm_col = '미세먼지농도(㎍/㎥)' if '미세먼지농도(㎍/㎥)' in df_dust.columns else '미세먼지(㎍/㎥)'\n",
        "    avg_dust = df_dust[pm_col].dropna().mean()\n",
        "    grouped['평균미세먼지'] = round(avg_dust, 2)\n",
        "    print(f\"{year}년 평균 미세먼지: {avg_dust:.2f}㎍/㎥\")\n",
        "\n",
        "    return grouped\n",
        "\n",
        "# 전체 연도 처리\n",
        "def process_all_years(years, base_path):\n",
        "    all_data = []\n",
        "    for year in years:\n",
        "        try:\n",
        "            df = process_year(year, base_path)\n",
        "            df.to_csv(os.path.join(base_path, f\"통합_{year}.csv\"), index=False, encoding='utf-8-sig')\n",
        "            all_data.append(df)\n",
        "            print(f\"{year}년 처리 완료\")\n",
        "        except Exception as e:\n",
        "            print(f\"{year}년 처리 실패: {e}\")\n",
        "\n",
        "    if all_data:\n",
        "        df_all = pd.concat(all_data, ignore_index=True)\n",
        "        df_all.to_csv(os.path.join(base_path, \"통합_2019_2024.csv\"), index=False, encoding='utf-8-sig')\n",
        "        print(\"전체 통합 파일 저장 완료: 통합_2019_2024.csv\")\n",
        "        files.download(os.path.join(base_path, \"통합_2019_2024.csv\"))\n",
        "    return df_all\n",
        "\n",
        "# 미래 값 예측 함수\n",
        "def predict_future_value(df, col, year=2025):\n",
        "    X = df[['연도']].values.reshape(-1, 1)\n",
        "    y = df[col]\n",
        "    model = LinearRegression().fit(X, y)\n",
        "    pred = model.predict(np.array([[year]]))\n",
        "    return round(pred[0], 2)\n",
        "\n",
        "print(\"함수 정의 완료\")"
      ],
      "metadata": {
        "colab": {
          "base_uri": "https://localhost:8080/"
        },
        "id": "QapggMvYmqwD",
        "outputId": "f5c74a4a-6618-4098-fb28-d0e4b14beb9f"
      },
      "execution_count": 14,
      "outputs": [
        {
          "output_type": "stream",
          "name": "stdout",
          "text": [
            "함수 정의 완료\n"
          ]
        }
      ]
    },
    {
      "cell_type": "code",
      "source": [
        "base_path = '/content/drive/MyDrive/상권분석'\n",
        "years = range(2019, 2025)\n",
        "df_all = process_all_years(years, base_path)\n",
        "print(\"\\n통합 데이터프레임 정보:\")\n",
        "print(df_all.info())\n",
        "print(\"\\n통합 데이터프레임 샘플:\")\n",
        "print(df_all.head())"
      ],
      "metadata": {
        "colab": {
          "base_uri": "https://localhost:8080/",
          "height": 1000
        },
        "id": "_eiptlLxm4Ra",
        "outputId": "9227cf92-7de9-461f-b6c3-708c598532ad"
      },
      "execution_count": 15,
      "outputs": [
        {
          "output_type": "stream",
          "name": "stdout",
          "text": [
            "\n",
            "2019년 데이터 처리 시작\n",
            "2019년 상권 데이터: (16970, 5)\n",
            "     연도     행정동코드   행정동명     업종          총매출\n",
            "0  2019  11110515  청운효자동    미용실    676679850\n",
            "1  2019  11110515  청운효자동  분식전문점   2081525885\n",
            "2  2019  11110515  청운효자동     서적  16233437173\n",
            "3  2019  11110515  청운효자동   섬유제품    929224411\n",
            "4  2019  11110515  청운효자동    세탁소    103455466\n",
            "2019년 평균 기온: 13.60°C\n",
            "2019년 평균 미세먼지: 41.76㎍/㎥\n",
            "2019년 처리 완료\n",
            "\n",
            "2020년 데이터 처리 시작\n",
            "2020년 상권 데이터: (17167, 5)\n",
            "     연도     행정동코드   행정동명     업종          총매출\n",
            "0  2020  11110515  청운효자동   미곡판매     68137830\n",
            "1  2020  11110515  청운효자동    미용실    584896798\n",
            "2  2020  11110515  청운효자동  분식전문점   1599615632\n",
            "3  2020  11110515  청운효자동     서적  16313220812\n",
            "4  2020  11110515  청운효자동   섬유제품    614529599\n",
            "2020년 평균 기온: 13.27°C\n",
            "2020년 평균 미세먼지: 35.12㎍/㎥\n",
            "2020년 처리 완료\n",
            "\n",
            "2021년 데이터 처리 시작\n",
            "2021년 상권 데이터: (18037, 5)\n",
            "     연도     행정동코드   행정동명      업종         총매출\n",
            "0  2021  11110515  청운효자동      가방    22673366\n",
            "1  2021  11110515  청운효자동  가전제품수리    13837091\n",
            "2  2021  11110515  청운효자동      문구    17747128\n",
            "3  2021  11110515  청운효자동    미곡판매   129176414\n",
            "4  2021  11110515  청운효자동     미용실  1065449669\n",
            "2021년 평균 기온: 13.75°C\n",
            "2021년 평균 미세먼지: 37.90㎍/㎥\n",
            "2021년 처리 완료\n",
            "\n",
            "2022년 데이터 처리 시작\n",
            "2022년 상권 데이터: (17920, 5)\n",
            "     연도     행정동코드   행정동명      업종         총매출\n",
            "0  2022  11110515  청운효자동  가전제품수리    57433405\n",
            "1  2022  11110515  청운효자동      문구    18363460\n",
            "2  2022  11110515  청운효자동    미곡판매    88740524\n",
            "3  2022  11110515  청운효자동     미용실   881619578\n",
            "4  2022  11110515  청운효자동    반찬가게  1350335723\n",
            "2022년 평균 기온: 13.30°C\n",
            "2022년 평균 미세먼지: 32.88㎍/㎥\n",
            "2022년 처리 완료\n",
            "\n",
            "2023년 데이터 처리 시작\n",
            "2023년 상권 데이터: (17754, 5)\n",
            "     연도     행정동코드   행정동명      업종         총매출\n",
            "0  2023  11110515  청운효자동      가방     9992821\n",
            "1  2023  11110515  청운효자동  가전제품수리    80368856\n",
            "2  2023  11110515  청운효자동      문구    15801935\n",
            "3  2023  11110515  청운효자동    미곡판매    43191192\n",
            "4  2023  11110515  청운효자동     미용실  1039773304\n",
            "2023년 평균 기온: 14.11°C\n",
            "2023년 평균 미세먼지: 37.73㎍/㎥\n",
            "2023년 처리 완료\n",
            "\n",
            "2024년 데이터 처리 시작\n",
            "2024년 상권 데이터: (17542, 5)\n",
            "     연도     행정동코드   행정동명      업종         총매출\n",
            "0  2024  11110515  청운효자동  가전제품수리    33597594\n",
            "1  2024  11110515  청운효자동      문구    12265218\n",
            "2  2024  11110515  청운효자동    미곡판매    43687643\n",
            "3  2024  11110515  청운효자동     미용실  1084218623\n",
            "4  2024  11110515  청운효자동    반찬가게  1704000000\n",
            "2024년 평균 기온: 14.88°C\n",
            "2024년 평균 미세먼지: 31.23㎍/㎥\n",
            "2024년 처리 완료\n",
            "전체 통합 파일 저장 완료: 통합_2019_2024.csv\n"
          ]
        },
        {
          "output_type": "display_data",
          "data": {
            "text/plain": [
              "<IPython.core.display.Javascript object>"
            ],
            "application/javascript": [
              "\n",
              "    async function download(id, filename, size) {\n",
              "      if (!google.colab.kernel.accessAllowed) {\n",
              "        return;\n",
              "      }\n",
              "      const div = document.createElement('div');\n",
              "      const label = document.createElement('label');\n",
              "      label.textContent = `Downloading \"${filename}\": `;\n",
              "      div.appendChild(label);\n",
              "      const progress = document.createElement('progress');\n",
              "      progress.max = size;\n",
              "      div.appendChild(progress);\n",
              "      document.body.appendChild(div);\n",
              "\n",
              "      const buffers = [];\n",
              "      let downloaded = 0;\n",
              "\n",
              "      const channel = await google.colab.kernel.comms.open(id);\n",
              "      // Send a message to notify the kernel that we're ready.\n",
              "      channel.send({})\n",
              "\n",
              "      for await (const message of channel.messages) {\n",
              "        // Send a message to notify the kernel that we're ready.\n",
              "        channel.send({})\n",
              "        if (message.buffers) {\n",
              "          for (const buffer of message.buffers) {\n",
              "            buffers.push(buffer);\n",
              "            downloaded += buffer.byteLength;\n",
              "            progress.value = downloaded;\n",
              "          }\n",
              "        }\n",
              "      }\n",
              "      const blob = new Blob(buffers, {type: 'application/binary'});\n",
              "      const a = document.createElement('a');\n",
              "      a.href = window.URL.createObjectURL(blob);\n",
              "      a.download = filename;\n",
              "      div.appendChild(a);\n",
              "      a.click();\n",
              "      div.remove();\n",
              "    }\n",
              "  "
            ]
          },
          "metadata": {}
        },
        {
          "output_type": "display_data",
          "data": {
            "text/plain": [
              "<IPython.core.display.Javascript object>"
            ],
            "application/javascript": [
              "download(\"download_82542ca3-4bd8-4c33-8950-b2da6543aeb0\", \"\\ud1b5\\ud569_2019_2024.csv\", 6340598)"
            ]
          },
          "metadata": {}
        },
        {
          "output_type": "stream",
          "name": "stdout",
          "text": [
            "\n",
            "통합 데이터프레임 정보:\n",
            "<class 'pandas.core.frame.DataFrame'>\n",
            "RangeIndex: 105390 entries, 0 to 105389\n",
            "Data columns (total 7 columns):\n",
            " #   Column  Non-Null Count   Dtype  \n",
            "---  ------  --------------   -----  \n",
            " 0   연도      105390 non-null  int64  \n",
            " 1   행정동코드   105390 non-null  int64  \n",
            " 2   행정동명    105390 non-null  object \n",
            " 3   업종      105390 non-null  object \n",
            " 4   총매출     105390 non-null  int64  \n",
            " 5   평균기온    105390 non-null  float64\n",
            " 6   평균미세먼지  105390 non-null  float64\n",
            "dtypes: float64(2), int64(3), object(2)\n",
            "memory usage: 5.6+ MB\n",
            "None\n",
            "\n",
            "통합 데이터프레임 샘플:\n",
            "     연도     행정동코드   행정동명     업종          총매출  평균기온  평균미세먼지\n",
            "0  2019  11110515  청운효자동    미용실    676679850  13.6   41.76\n",
            "1  2019  11110515  청운효자동  분식전문점   2081525885  13.6   41.76\n",
            "2  2019  11110515  청운효자동     서적  16233437173  13.6   41.76\n",
            "3  2019  11110515  청운효자동   섬유제품    929224411  13.6   41.76\n",
            "4  2019  11110515  청운효자동    세탁소    103455466  13.6   41.76\n"
          ]
        }
      ]
    },
    {
      "cell_type": "code",
      "source": [
        "print(\"\\n매출증감률 및 순위 계산 시작\")\n",
        "df_all = df_all.sort_values(by=['행정동코드', '업종', '연도'])\n",
        "df_all['매출증감률'] = df_all.groupby(['행정동코드', '업종'])['총매출'].pct_change() * 100\n",
        "df_all['순위'] = df_all.groupby(['연도', '행정동코드'])['총매출'].rank(method='min', ascending=False).astype(int)\n",
        "df_all['업종코드'] = LabelEncoder().fit_transform(df_all['업종'])\n",
        "df_all['행정동코드_str'] = LabelEncoder().fit_transform(df_all['행정동코드'].astype(str))\n",
        "df_all['전년도_총매출'] = df_all.groupby(['행정동코드', '업종'])['총매출'].shift(1)\n",
        "\n",
        "print(\"분석 데이터프레임 정보:\")\n",
        "print(df_all.info())\n",
        "print(\"\\n분석 데이터프레임 샘플:\")\n",
        "print(df_all.head())\n",
        "\n",
        "df_all.to_csv(f\"{base_path}/분석결과_2019_2024.csv\", index=False, encoding='utf-8-sig')\n",
        "print(\"분석 결과 저장 완료: 분석결과_2019_2024.csv\")\n",
        "files.download(f\"{base_path}/분석결과_2019_2024.csv\")"
      ],
      "metadata": {
        "colab": {
          "base_uri": "https://localhost:8080/",
          "height": 741
        },
        "id": "RyHGeG5Bm9ao",
        "outputId": "5a4d89d6-f1de-4659-bab3-53ecc3eea8b9"
      },
      "execution_count": 16,
      "outputs": [
        {
          "output_type": "stream",
          "name": "stdout",
          "text": [
            "\n",
            "매출증감률 및 순위 계산 시작\n",
            "분석 데이터프레임 정보:\n",
            "<class 'pandas.core.frame.DataFrame'>\n",
            "Index: 105390 entries, 34137 to 105389\n",
            "Data columns (total 12 columns):\n",
            " #   Column     Non-Null Count   Dtype  \n",
            "---  ------     --------------   -----  \n",
            " 0   연도         105390 non-null  int64  \n",
            " 1   행정동코드      105390 non-null  int64  \n",
            " 2   행정동명       105390 non-null  object \n",
            " 3   업종         105390 non-null  object \n",
            " 4   총매출        105390 non-null  int64  \n",
            " 5   평균기온       105390 non-null  float64\n",
            " 6   평균미세먼지     105390 non-null  float64\n",
            " 7   매출증감률      86055 non-null   float64\n",
            " 8   순위         105390 non-null  int64  \n",
            " 9   업종코드       105390 non-null  int64  \n",
            " 10  행정동코드_str  105390 non-null  int64  \n",
            " 11  전년도_총매출    86055 non-null   float64\n",
            "dtypes: float64(4), int64(6), object(2)\n",
            "memory usage: 10.5+ MB\n",
            "None\n",
            "\n",
            "분석 데이터프레임 샘플:\n",
            "         연도     행정동코드   행정동명      업종       총매출   평균기온  평균미세먼지       매출증감률  순위  \\\n",
            "34137  2021  11110515  청운효자동      가방  22673366  13.75   37.90         NaN  35   \n",
            "70094  2023  11110515  청운효자동      가방   9992821  14.11   37.73  -55.927051  38   \n",
            "34138  2021  11110515  청운효자동  가전제품수리  13837091  13.75   37.90         NaN  38   \n",
            "52174  2022  11110515  청운효자동  가전제품수리  57433405  13.30   32.88  315.068492  35   \n",
            "70095  2023  11110515  청운효자동  가전제품수리  80368856  14.11   37.73   39.933991  34   \n",
            "\n",
            "       업종코드  행정동코드_str     전년도_총매출  \n",
            "34137     2          0         NaN  \n",
            "70094     2          0  22673366.0  \n",
            "34138     4          0         NaN  \n",
            "52174     4          0  13837091.0  \n",
            "70095     4          0  57433405.0  \n",
            "분석 결과 저장 완료: 분석결과_2019_2024.csv\n"
          ]
        },
        {
          "output_type": "display_data",
          "data": {
            "text/plain": [
              "<IPython.core.display.Javascript object>"
            ],
            "application/javascript": [
              "\n",
              "    async function download(id, filename, size) {\n",
              "      if (!google.colab.kernel.accessAllowed) {\n",
              "        return;\n",
              "      }\n",
              "      const div = document.createElement('div');\n",
              "      const label = document.createElement('label');\n",
              "      label.textContent = `Downloading \"${filename}\": `;\n",
              "      div.appendChild(label);\n",
              "      const progress = document.createElement('progress');\n",
              "      progress.max = size;\n",
              "      div.appendChild(progress);\n",
              "      document.body.appendChild(div);\n",
              "\n",
              "      const buffers = [];\n",
              "      let downloaded = 0;\n",
              "\n",
              "      const channel = await google.colab.kernel.comms.open(id);\n",
              "      // Send a message to notify the kernel that we're ready.\n",
              "      channel.send({})\n",
              "\n",
              "      for await (const message of channel.messages) {\n",
              "        // Send a message to notify the kernel that we're ready.\n",
              "        channel.send({})\n",
              "        if (message.buffers) {\n",
              "          for (const buffer of message.buffers) {\n",
              "            buffers.push(buffer);\n",
              "            downloaded += buffer.byteLength;\n",
              "            progress.value = downloaded;\n",
              "          }\n",
              "        }\n",
              "      }\n",
              "      const blob = new Blob(buffers, {type: 'application/binary'});\n",
              "      const a = document.createElement('a');\n",
              "      a.href = window.URL.createObjectURL(blob);\n",
              "      a.download = filename;\n",
              "      div.appendChild(a);\n",
              "      a.click();\n",
              "      div.remove();\n",
              "    }\n",
              "  "
            ]
          },
          "metadata": {}
        },
        {
          "output_type": "display_data",
          "data": {
            "text/plain": [
              "<IPython.core.display.Javascript object>"
            ],
            "application/javascript": [
              "download(\"download_d829b135-41eb-452b-aa89-dcb67b52e8ef\", \"\\ubd84\\uc11d\\uacb0\\uacfc_2019_2024.csv\", 10061722)"
            ]
          },
          "metadata": {}
        }
      ]
    },
    {
      "cell_type": "code",
      "source": [
        "print(\"\\n2025년 예측 시작\")\n",
        "df_mean = df_all.groupby('연도')[['평균기온', '평균미세먼지']].mean().reset_index()\n",
        "예측기온 = predict_future_value(df_mean, '평균기온')\n",
        "예측미세먼지 = predict_future_value(df_mean, '평균미세먼지')\n",
        "print(f\"2025년 예측 평균 기온: {예측기온}°C\")\n",
        "print(f\"2025년 예측 평균 미세먼지: {예측미세먼지}㎍/㎥\")\n",
        "\n",
        "df_2024 = df_all[df_all['연도'] == 2024].copy()\n",
        "df_2024['연도'] = 2025\n",
        "df_2024['예측_총매출'] = np.nan\n",
        "df_2024['평균기온'] = 예측기온\n",
        "df_2024['평균미세먼지'] = 예측미세먼지\n",
        "print(\"\\n2025년 예측용 데이터프레임 샘플:\")\n",
        "print(df_2024.head())"
      ],
      "metadata": {
        "colab": {
          "base_uri": "https://localhost:8080/"
        },
        "id": "nq1Ato-nnCc7",
        "outputId": "65805271-807e-41c9-af8d-f52cbc8c5776"
      },
      "execution_count": 17,
      "outputs": [
        {
          "output_type": "stream",
          "name": "stdout",
          "text": [
            "\n",
            "2025년 예측 시작\n",
            "2025년 예측 평균 기온: 14.67°C\n",
            "2025년 예측 평균 미세먼지: 31.12㎍/㎥\n",
            "\n",
            "2025년 예측용 데이터프레임 샘플:\n",
            "         연도     행정동코드   행정동명      업종         총매출   평균기온  평균미세먼지      매출증감률  \\\n",
            "87848  2025  11110515  청운효자동  가전제품수리    33597594  14.67   31.12 -58.195754   \n",
            "87849  2025  11110515  청운효자동      문구    12265218  14.67   31.12 -22.381544   \n",
            "87850  2025  11110515  청운효자동    미곡판매    43687643  14.67   31.12   1.149426   \n",
            "87851  2025  11110515  청운효자동     미용실  1084218623  14.67   31.12   4.274520   \n",
            "87852  2025  11110515  청운효자동    반찬가게  1704000000  14.67   31.12   0.000000   \n",
            "\n",
            "       순위  업종코드  행정동코드_str       전년도_총매출  예측_총매출  \n",
            "87848  31     4          0  8.036886e+07     NaN  \n",
            "87849  32    10          0  1.580194e+07     NaN  \n",
            "87850  30    11          0  4.319119e+07     NaN  \n",
            "87851  19    12          0  1.039773e+09     NaN  \n",
            "87852  14    13          0  1.704000e+09     NaN  \n"
          ]
        }
      ]
    },
    {
      "cell_type": "code",
      "source": [
        "# 학습 및 예측 데이터 통합\n",
        "df_total = pd.concat([df_all, df_2024], ignore_index=True)\n",
        "train = df_total[(df_total['연도'] < 2025) & (df_total['전년도_총매출'].notna())]\n",
        "test = df_total[df_total['연도'] == 2025]\n",
        "\n",
        "# 모델 훈련 및 예측\n",
        "features = ['연도', '평균기온', '평균미세먼지', '전년도_총매출', '순위', '업종코드', '행정동코드_str']\n",
        "X_train = train[features]\n",
        "y_train = train['총매출']\n",
        "X_test = test[features]\n",
        "\n",
        "model = RandomForestRegressor(n_estimators=200, random_state=42)\n",
        "model.fit(X_train, y_train)\n",
        "test.loc[:, '예측_총매출'] = model.predict(X_test)\n",
        "\n",
        "# 결과 정리\n",
        "result = test[['연도', '행정동코드', '행정동명', '업종', '예측_총매출', '평균기온', '평균미세먼지', '전년도_총매출']].copy()\n",
        "result['매출증감률_예측'] = ((result['예측_총매출'] - result['전년도_총매출']) / result['전년도_총매출']) * 100\n",
        "result['순위'] = result.groupby('행정동코드')['예측_총매출'].rank(method='min', ascending=False).astype(int)\n",
        "result = result.sort_values(['행정동코드', '순위'])\n",
        "print(\"\\n2025년 예측 결과 샘플:\")\n",
        "print(result.head())\n",
        "\n",
        "# 최종 결과 저장 및 다운로드\n",
        "result.to_csv(f\"{base_path}/예측결과_2025.csv\", index=False, encoding='utf-8-sig')\n",
        "print(\"예측 결과 저장 완료: 예측결과_2025.csv\")\n",
        "files.download(f\"{base_path}/예측결과_2025.csv\")"
      ],
      "metadata": {
        "colab": {
          "base_uri": "https://localhost:8080/",
          "height": 314
        },
        "id": "iloIzAQgnJYv",
        "outputId": "9a55a876-3f7b-49d6-c7ed-6a49471a2e0e"
      },
      "execution_count": 18,
      "outputs": [
        {
          "output_type": "stream",
          "name": "stdout",
          "text": [
            "\n",
            "2025년 예측 결과 샘플:\n",
            "          연도     행정동코드   행정동명     업종        예측_총매출   평균기온  평균미세먼지  \\\n",
            "105417  2025  11110515  청운효자동  커피-음료  2.191746e+10  14.67   31.12   \n",
            "105396  2025  11110515  청운효자동     서적  1.700435e+10  14.67   31.12   \n",
            "105420  2025  11110515  청운효자동  한식음식점  1.386325e+10  14.67   31.12   \n",
            "105404  2025  11110515  청운효자동  양식음식점  1.153230e+10  14.67   31.12   \n",
            "105400  2025  11110515  청운효자동   슈퍼마켓  8.003662e+09  14.67   31.12   \n",
            "\n",
            "             전년도_총매출   매출증감률_예측  순위  \n",
            "105417  1.939355e+10  13.014140   1  \n",
            "105396  1.705461e+10  -0.294743   2  \n",
            "105420  1.379444e+10   0.498870   3  \n",
            "105404  1.030842e+10  11.872664   4  \n",
            "105400  8.347530e+09  -4.119404   5  \n",
            "예측 결과 저장 완료: 예측결과_2025.csv\n"
          ]
        },
        {
          "output_type": "display_data",
          "data": {
            "text/plain": [
              "<IPython.core.display.Javascript object>"
            ],
            "application/javascript": [
              "\n",
              "    async function download(id, filename, size) {\n",
              "      if (!google.colab.kernel.accessAllowed) {\n",
              "        return;\n",
              "      }\n",
              "      const div = document.createElement('div');\n",
              "      const label = document.createElement('label');\n",
              "      label.textContent = `Downloading \"${filename}\": `;\n",
              "      div.appendChild(label);\n",
              "      const progress = document.createElement('progress');\n",
              "      progress.max = size;\n",
              "      div.appendChild(progress);\n",
              "      document.body.appendChild(div);\n",
              "\n",
              "      const buffers = [];\n",
              "      let downloaded = 0;\n",
              "\n",
              "      const channel = await google.colab.kernel.comms.open(id);\n",
              "      // Send a message to notify the kernel that we're ready.\n",
              "      channel.send({})\n",
              "\n",
              "      for await (const message of channel.messages) {\n",
              "        // Send a message to notify the kernel that we're ready.\n",
              "        channel.send({})\n",
              "        if (message.buffers) {\n",
              "          for (const buffer of message.buffers) {\n",
              "            buffers.push(buffer);\n",
              "            downloaded += buffer.byteLength;\n",
              "            progress.value = downloaded;\n",
              "          }\n",
              "        }\n",
              "      }\n",
              "      const blob = new Blob(buffers, {type: 'application/binary'});\n",
              "      const a = document.createElement('a');\n",
              "      a.href = window.URL.createObjectURL(blob);\n",
              "      a.download = filename;\n",
              "      div.appendChild(a);\n",
              "      a.click();\n",
              "      div.remove();\n",
              "    }\n",
              "  "
            ]
          },
          "metadata": {}
        },
        {
          "output_type": "display_data",
          "data": {
            "text/plain": [
              "<IPython.core.display.Javascript object>"
            ],
            "application/javascript": [
              "download(\"download_b4723af2-4364-4c4c-b831-cace8447349b\", \"\\uc608\\uce21\\uacb0\\uacfc_2025.csv\", 1722565)"
            ]
          },
          "metadata": {}
        }
      ]
    }
  ]
}